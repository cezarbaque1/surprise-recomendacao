{
 "cells": [
  {
   "cell_type": "code",
   "execution_count": 3,
   "metadata": {},
   "outputs": [],
   "source": [
    "import joblib\n",
    "import pandas as pd\n",
    "from conn.apis import *\n",
    "import base64"
   ]
  },
  {
   "cell_type": "code",
   "execution_count": null,
   "metadata": {},
   "outputs": [],
   "source": [
    "predictBase64 = get_predict()\n",
    "predictContent = base64.b64decode(predictBase64)\n",
    "\n",
    "with open('modelo/predicao_surprise.pkl', 'wb') as file:\n",
    "            file.write(predictContent)"
   ]
  },
  {
   "cell_type": "code",
   "execution_count": 4,
   "metadata": {},
   "outputs": [],
   "source": [
    "pickle_file_path = 'modelo/predicao_surprise.pkl'\n",
    "pipeline2 = joblib.load(pickle_file_path)"
   ]
  },
  {
   "cell_type": "code",
   "execution_count": 5,
   "metadata": {},
   "outputs": [
    {
     "data": {
      "text/html": [
       "<div>\n",
       "<style scoped>\n",
       "    .dataframe tbody tr th:only-of-type {\n",
       "        vertical-align: middle;\n",
       "    }\n",
       "\n",
       "    .dataframe tbody tr th {\n",
       "        vertical-align: top;\n",
       "    }\n",
       "\n",
       "    .dataframe thead th {\n",
       "        text-align: right;\n",
       "    }\n",
       "</style>\n",
       "<table border=\"1\" class=\"dataframe\">\n",
       "  <thead>\n",
       "    <tr style=\"text-align: right;\">\n",
       "      <th></th>\n",
       "      <th>1</th>\n",
       "      <th>2</th>\n",
       "      <th>3</th>\n",
       "      <th>4</th>\n",
       "      <th>5</th>\n",
       "    </tr>\n",
       "  </thead>\n",
       "  <tbody>\n",
       "    <tr>\n",
       "      <th>0</th>\n",
       "      <td>Masculino</td>\n",
       "      <td>Praia</td>\n",
       "      <td>Já acertou muita coisa sobre mim</td>\n",
       "      <td>Cineminha top</td>\n",
       "      <td>Fico observando para ver se não conheço alguém</td>\n",
       "    </tr>\n",
       "  </tbody>\n",
       "</table>\n",
       "</div>"
      ],
      "text/plain": [
       "           1      2                                 3              4  \\\n",
       "0  Masculino  Praia  Já acertou muita coisa sobre mim  Cineminha top   \n",
       "\n",
       "                                                5  \n",
       "0  Fico observando para ver se não conheço alguém  "
      ]
     },
     "execution_count": 5,
     "metadata": {},
     "output_type": "execute_result"
    }
   ],
   "source": [
    "new_data = pd.DataFrame([{\n",
    "    '1': 'Masculino',\n",
    "    '2': 'Praia',\n",
    "    '3': 'Já acertou muita coisa sobre mim',\n",
    "    '4': 'Cineminha top',\n",
    "    '5': 'Fico observando para ver se não conheço alguém'\n",
    "}])\n",
    "new_data"
   ]
  },
  {
   "cell_type": "code",
   "execution_count": 6,
   "metadata": {},
   "outputs": [
    {
     "data": {
      "text/plain": [
       "array(['DN4181309', 'DD3242600', 'FN0891406', 'DX1023716', 'CJ0921091'],\n",
       "      dtype='<U9')"
      ]
     },
     "execution_count": 6,
     "metadata": {},
     "output_type": "execute_result"
    }
   ],
   "source": [
    "prediction = pipeline2.predict_proba(new_data)\n",
    "top2_indices  = prediction[0].argsort()[-5:][::-1]\n",
    "produtos_recomendados = pipeline2.classes_[top2_indices]\n",
    "produtos_recomendados"
   ]
  }
 ],
 "metadata": {
  "kernelspec": {
   "display_name": "venv",
   "language": "python",
   "name": "python3"
  },
  "language_info": {
   "codemirror_mode": {
    "name": "ipython",
    "version": 3
   },
   "file_extension": ".py",
   "mimetype": "text/x-python",
   "name": "python",
   "nbconvert_exporter": "python",
   "pygments_lexer": "ipython3",
   "version": "3.12.5"
  }
 },
 "nbformat": 4,
 "nbformat_minor": 2
}
