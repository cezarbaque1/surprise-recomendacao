{
 "cells": [
  {
   "cell_type": "code",
   "execution_count": 2,
   "metadata": {},
   "outputs": [
    {
     "name": "stdout",
     "output_type": "stream",
     "text": [
      "    idPergunta idResposta                                           Pergunta  \\\n",
      "0            1        1-1                                    Qual seu Gênero   \n",
      "1            1        1-2                                    Qual seu Gênero   \n",
      "2            1        1-3                                    Qual seu Gênero   \n",
      "3            2        2-1              Onde você prefere passar suas férias?   \n",
      "4            2        2-2              Onde você prefere passar suas férias?   \n",
      "5            2        2-3              Onde você prefere passar suas férias?   \n",
      "6            3        3-1                     O que você pensa sobre signos?   \n",
      "7            3        3-2                     O que você pensa sobre signos?   \n",
      "8            3        3-3                     O que você pensa sobre signos?   \n",
      "9            4        4-1  Chegou o final de semana e você vai decidir o ...   \n",
      "10           4        4-2  Chegou o final de semana e você vai decidir o ...   \n",
      "11           4        4-3  Chegou o final de semana e você vai decidir o ...   \n",
      "12           4        4-4  Chegou o final de semana e você vai decidir o ...   \n",
      "13           5        5-1  Você chegou em uma sala onde não conhece ningu...   \n",
      "14           5        5-2  Você chegou em uma sala onde não conhece ningu...   \n",
      "15           5        5-3  Você chegou em uma sala onde não conhece ningu...   \n",
      "\n",
      "                                             Resposta  \n",
      "0                                           Masculino  \n",
      "1                                            Feminino  \n",
      "2                                               Outro  \n",
      "3                                               Praia  \n",
      "4                                            Montanha  \n",
      "5                                           Tanto faz  \n",
      "6                    Já acertou muita coisa sobre mim  \n",
      "7                         Fiz meu mapa astral uma vez  \n",
      "8   Não acredito que a posição dos planetas influe...  \n",
      "9                                       Cineminha top  \n",
      "10                                Um Barzinho de leve  \n",
      "11                                      Ficar em casa  \n",
      "12                                   Balada pesaaaada  \n",
      "13     Fico observando para ver se não conheço alguém  \n",
      "14      Vejo se tem alguém interessante para conhecer  \n",
      "15  Depende do meu humor, as vezes fico na minha e...  \n"
     ]
    }
   ],
   "source": [
    "import pandas as pd\n",
    "\n",
    "# Dados fornecidos\n",
    "dados = {\n",
    "    'idPergunta': [1, 1, 1, 2, 2, 2, 3, 3, 3, 4, 4, 4, 4, 5, 5, 5],\n",
    "    'idResposta': ['1-1', '1-2', '1-3', '2-1', '2-2', '2-3', '3-1', '3-2', '3-3', '4-1', '4-2', '4-3', '4-4', '5-1', '5-2', '5-3'],\n",
    "    'Pergunta': [\n",
    "        'Qual seu Gênero', 'Qual seu Gênero', 'Qual seu Gênero',\n",
    "        'Onde você prefere passar suas férias?', 'Onde você prefere passar suas férias?', 'Onde você prefere passar suas férias?',\n",
    "        'O que você pensa sobre signos?', 'O que você pensa sobre signos?', 'O que você pensa sobre signos?',\n",
    "        'Chegou o final de semana e você vai decidir o que fazer, o que vem primeiro na sua cabeça?', 'Chegou o final de semana e você vai decidir o que fazer, o que vem primeiro na sua cabeça?', 'Chegou o final de semana e você vai decidir o que fazer, o que vem primeiro na sua cabeça?', 'Chegou o final de semana e você vai decidir o que fazer, o que vem primeiro na sua cabeça?',\n",
    "        'Você chegou em uma sala onde não conhece ninguém, o que você faz?', 'Você chegou em uma sala onde não conhece ninguém, o que você faz?', 'Você chegou em uma sala onde não conhece ninguém, o que você faz?'\n",
    "    ],\n",
    "    'Resposta': [\n",
    "        'Masculino', 'Feminino', 'Outro',\n",
    "        'Praia', 'Montanha', 'Tanto faz',\n",
    "        'Já acertou muita coisa sobre mim', 'Fiz meu mapa astral uma vez', 'Não acredito que a posição dos planetas influenciem minha vida',\n",
    "        'Cineminha top', 'Um Barzinho de leve', 'Ficar em casa', 'Balada pesaaaada',\n",
    "        'Fico observando para ver se não conheço alguém', 'Vejo se tem alguém interessante para conhecer', 'Depende do meu humor, as vezes fico na minha e as vezes tento puxar assunto'\n",
    "    ]\n",
    "}\n",
    "\n",
    "# Criação do DataFrame\n",
    "dfPerguntas = pd.DataFrame(dados)\n",
    "\n",
    "# Exibição do DataFrame\n",
    "print(dfPerguntas)\n"
   ]
  }
 ],
 "metadata": {
  "kernelspec": {
   "display_name": "venv",
   "language": "python",
   "name": "python3"
  },
  "language_info": {
   "codemirror_mode": {
    "name": "ipython",
    "version": 3
   },
   "file_extension": ".py",
   "mimetype": "text/x-python",
   "name": "python",
   "nbconvert_exporter": "python",
   "pygments_lexer": "ipython3",
   "version": "3.12.4"
  }
 },
 "nbformat": 4,
 "nbformat_minor": 2
}
