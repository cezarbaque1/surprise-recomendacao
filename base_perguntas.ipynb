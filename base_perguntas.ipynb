{
 "cells": [
  {
   "cell_type": "code",
   "execution_count": 9,
   "metadata": {},
   "outputs": [
    {
     "data": {
      "text/html": [
       "<div>\n",
       "<style scoped>\n",
       "    .dataframe tbody tr th:only-of-type {\n",
       "        vertical-align: middle;\n",
       "    }\n",
       "\n",
       "    .dataframe tbody tr th {\n",
       "        vertical-align: top;\n",
       "    }\n",
       "\n",
       "    .dataframe thead th {\n",
       "        text-align: right;\n",
       "    }\n",
       "</style>\n",
       "<table border=\"1\" class=\"dataframe\">\n",
       "  <thead>\n",
       "    <tr style=\"text-align: right;\">\n",
       "      <th></th>\n",
       "      <th>idPergunta</th>\n",
       "      <th>idResposta</th>\n",
       "      <th>Pergunta</th>\n",
       "      <th>Resposta</th>\n",
       "    </tr>\n",
       "  </thead>\n",
       "  <tbody>\n",
       "    <tr>\n",
       "      <th>0</th>\n",
       "      <td>1</td>\n",
       "      <td>1-1</td>\n",
       "      <td>Qual seu Gênero</td>\n",
       "      <td>Masculino</td>\n",
       "    </tr>\n",
       "    <tr>\n",
       "      <th>1</th>\n",
       "      <td>1</td>\n",
       "      <td>1-2</td>\n",
       "      <td>Qual seu Gênero</td>\n",
       "      <td>Feminino</td>\n",
       "    </tr>\n",
       "    <tr>\n",
       "      <th>2</th>\n",
       "      <td>1</td>\n",
       "      <td>1-3</td>\n",
       "      <td>Qual seu Gênero</td>\n",
       "      <td>Outro</td>\n",
       "    </tr>\n",
       "    <tr>\n",
       "      <th>3</th>\n",
       "      <td>2</td>\n",
       "      <td>2-1</td>\n",
       "      <td>Onde você prefere passar suas férias?</td>\n",
       "      <td>Praia</td>\n",
       "    </tr>\n",
       "    <tr>\n",
       "      <th>4</th>\n",
       "      <td>2</td>\n",
       "      <td>2-2</td>\n",
       "      <td>Onde você prefere passar suas férias?</td>\n",
       "      <td>Montanha</td>\n",
       "    </tr>\n",
       "  </tbody>\n",
       "</table>\n",
       "</div>"
      ],
      "text/plain": [
       "   idPergunta idResposta                               Pergunta   Resposta\n",
       "0           1        1-1                        Qual seu Gênero  Masculino\n",
       "1           1        1-2                        Qual seu Gênero   Feminino\n",
       "2           1        1-3                        Qual seu Gênero      Outro\n",
       "3           2        2-1  Onde você prefere passar suas férias?      Praia\n",
       "4           2        2-2  Onde você prefere passar suas férias?   Montanha"
      ]
     },
     "execution_count": 9,
     "metadata": {},
     "output_type": "execute_result"
    }
   ],
   "source": [
    "import pandas as pd\n",
    "\n",
    "def get_questions():\n",
    "    # Dados fornecidos\n",
    "    dados = {\n",
    "        'idPergunta': [1, 1, 1, 2, 2, 2, 3, 3, 3, 4, 4, 4, 4, 5, 5, 5],\n",
    "        'idResposta': ['1-1', '1-2', '1-3', '2-1', '2-2', '2-3', '3-1', '3-2', '3-3', '4-1', '4-2', '4-3', '4-4', '5-1', '5-2', '5-3'],\n",
    "        'Pergunta': [\n",
    "            'Qual seu Gênero', 'Qual seu Gênero', 'Qual seu Gênero',\n",
    "            'Onde você prefere passar suas férias?', 'Onde você prefere passar suas férias?', 'Onde você prefere passar suas férias?',\n",
    "            'O que você pensa sobre signos?', 'O que você pensa sobre signos?', 'O que você pensa sobre signos?',\n",
    "            'Chegou o final de semana e você vai decidir o que fazer, o que vem primeiro na sua cabeça?', 'Chegou o final de semana e você vai decidir o que fazer, o que vem primeiro na sua cabeça?', 'Chegou o final de semana e você vai decidir o que fazer, o que vem primeiro na sua cabeça?', 'Chegou o final de semana e você vai decidir o que fazer, o que vem primeiro na sua cabeça?',\n",
    "            'Você chegou em uma sala onde não conhece ninguém, o que você faz?', 'Você chegou em uma sala onde não conhece ninguém, o que você faz?', 'Você chegou em uma sala onde não conhece ninguém, o que você faz?'\n",
    "        ],\n",
    "        'Resposta': [\n",
    "            'Masculino', 'Feminino', 'Outro',\n",
    "            'Praia', 'Montanha', 'Tanto faz',\n",
    "            'Já acertou muita coisa sobre mim', 'Fiz meu mapa astral uma vez', 'Não acredito que a posição dos planetas influenciem minha vida',\n",
    "            'Cineminha top', 'Um Barzinho de leve', 'Ficar em casa', 'Balada pesaaaada',\n",
    "            'Fico observando para ver se não conheço alguém', 'Vejo se tem alguém interessante para conhecer', 'Depende do meu humor, as vezes fico na minha e as vezes tento puxar assunto'\n",
    "        ]\n",
    "    }\n",
    "    # Criação do DataFrame\n",
    "    dfPerguntas = pd.DataFrame(dados)\n",
    "    return dfPerguntas\n",
    "\n",
    "teste = get_questions()\n",
    "teste.head()\n"
   ]
  },
  {
   "cell_type": "code",
   "execution_count": 15,
   "metadata": {},
   "outputs": [
    {
     "name": "stdout",
     "output_type": "stream",
     "text": [
      "1\n",
      "1\n",
      "1\n",
      "2\n",
      "2\n",
      "2\n",
      "3\n",
      "3\n",
      "3\n",
      "4\n",
      "4\n",
      "4\n",
      "4\n",
      "5\n",
      "5\n",
      "5\n"
     ]
    }
   ],
   "source": [
    "for index, item in teste.iterrows():\n",
    "    print(item['idPergunta'])"
   ]
  }
 ],
 "metadata": {
  "kernelspec": {
   "display_name": "venv",
   "language": "python",
   "name": "python3"
  },
  "language_info": {
   "codemirror_mode": {
    "name": "ipython",
    "version": 3
   },
   "file_extension": ".py",
   "mimetype": "text/x-python",
   "name": "python",
   "nbconvert_exporter": "python",
   "pygments_lexer": "ipython3",
   "version": "3.12.5"
  }
 },
 "nbformat": 4,
 "nbformat_minor": 2
}
